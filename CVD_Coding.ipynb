{
 "cells": [
  {
   "cell_type": "code",
   "execution_count": 27,
   "metadata": {},
   "outputs": [
    {
     "name": "stdout",
     "output_type": "stream",
     "text": [
      "['Unnamed: 0', 'Id', 'Age', 'Gender', 'Height', 'Weight', 'Systolic Blood Pressure', 'Diastolic Blood Pressure', 'Cholesterol', 'Glucose', 'Smoking', 'Alcohol Intake', 'Active', 'Cardio']\n"
     ]
    }
   ],
   "source": [
    "# IMPORT FILE:\n",
    "\n",
    "import pandas as pd \n",
    "\n",
    "df = pd.read_csv('C:/Users/Danielle/code/savvycoders/throwaway/CVD.csv')\n",
    "#print(df)\n",
    "\n",
    "# --------------------- (\"ctrl\" + \"/\" = # in front of text) ------------------\n",
    "# --------------------- (\"ctrl\" + \"s\" = save file) ---------------------------\n",
    "\n",
    "#Identify & sum missing values\n",
    "# df.isnull().sum()\n",
    "'''\n",
    "    NO missing values according to this.\n",
    "    dtype: int64\n",
    "'''\n",
    "\n",
    "#Rename only selected columns:\n",
    "df.rename(columns={\n",
    "    'ap_hi': 'Systolic Blood Pressure',\n",
    "    'ap_lo': 'Diastolic Blood Pressure', \n",
    "    'gluc': 'Glucose',\n",
    "    'alco': 'Alcohol Intake',\n",
    "    'smoke': 'Smoking'\n",
    "}, inplace=True)\n",
    "# print(df)\n",
    "\n",
    "\n",
    "#Capitolize the first letter in each column name\n",
    "'''\n",
    ".title = capitolize the first letter for all words\n",
    ".capitolize = only capitolize the first letter of first word\n",
    "'''\n",
    "df = [i.title() for i in df]\n",
    "# print(df)\n",
    "\n",
    "\n",
    "\n",
    "\n",
    "\n",
    "\n",
    "\n",
    "\n",
    "\n"
   ]
  }
 ],
 "metadata": {
  "kernelspec": {
   "display_name": "Python 3",
   "language": "python",
   "name": "python3"
  },
  "language_info": {
   "codemirror_mode": {
    "name": "ipython",
    "version": 3
   },
   "file_extension": ".py",
   "mimetype": "text/x-python",
   "name": "python",
   "nbconvert_exporter": "python",
   "pygments_lexer": "ipython3",
   "version": "3.10.8"
  },
  "orig_nbformat": 4
 },
 "nbformat": 4,
 "nbformat_minor": 2
}
